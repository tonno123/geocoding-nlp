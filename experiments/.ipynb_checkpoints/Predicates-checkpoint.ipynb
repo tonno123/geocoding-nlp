{
 "cells": [
  {
   "cell_type": "markdown",
   "metadata": {},
   "source": [
    "### Predicaten\n",
    "Uit de data visualisations heb ik deze predicaten gehaald, die het belangrijkst zijn voor locatiedetectie. De woorden achter het predicaat zijn nu gekoppeld aan het predicaat. Ik ben hier uitgegaan van de spaCy NER, die geen disambiguation doet tussen straten, dorpen, snelwegen e.d.\n",
    "\n",
    "\n",
    "IN(LOC1) \n",
    "”in, op, over”\n",
    "\n",
    "AT(LOC1)\n",
    "”bij, ter hoogte van”\n",
    "\n",
    "HEADING(LOC1)\n",
    "”richting, naar”\n",
    "\n",
    "BETWEEN(LOC1, LOC2)\n",
    "”tussen”\n",
    "\n",
    "INTERSECTION(LOC1, LOC2)\n",
    "”kruising”\n",
    "\n",
    "\n",
    "Hier kunnen nog predicaten bij worden gevoegd, bijvoorbeeld \"uit\" komt ook vaak voor, maar heb ik hieruit weggelaten omdat \"uit\" meestal in onze verkeersongelukkendata wijst naar waar iemand vandaan komt, en niet naar de locatie van het ongeluk. Hangt dus af van de scope of die nog wordt toegevoegd.\n",
    "\n"
   ]
  },
  {
   "cell_type": "markdown",
   "metadata": {},
   "source": [
    "### De welbekende spans"
   ]
  },
  {
   "cell_type": "code",
   "execution_count": 4,
   "metadata": {},
   "outputs": [
    {
     "name": "stdout",
     "output_type": "stream",
     "text": [
      "[[RTV Oost / Wouter de Wilde, de kop geslagen in Bornerbroek.]]\n",
      "[[aanrijding met vrachtwagen in Amsterdam 23 april 2019,, de kruising van de Marnixstraat met de Rozengracht in Amsterdam.  ], [Op de Marnixstraat gebeuren vaker ongelukken.], [een 19-jarige uitwisselingsstudente uit India om het leven,]]\n",
      "[[Wonderwel kwam de Jisper er zonder kleerscheuren vanaf], [Visual Studio / Stefan Roode  Inter Visual Studio / Stefan Roode]]\n",
      "[[auto’s op A4 bij Hoofddorp;], [elkaar gebotst op de A4 ter hoogte van Hoofddorp], [in de richting van Schiphol.], [Houd hier rekening mee als]]\n",
      "[[ernstig ongeluk op de A1 bij Deventer zijn allemaal], [op de weg richting Apeldoorn.], [meerdere leden van voetbalclub Columbia uit Apeldoorn.], [De weg richting Apeldoorn werd direct afgesloten voor], [Verkeer richting Apeldoorn werd omgeleid via Almelo/Zwolle en verkeer richting Arnhem kon het beste via Enschede rijden.], [het aantal doden op Nederlandse wegen  .], [  includes/sidebar/sportcenter.html   TODO Make this specific for sportcenter   / includes/sidebar/sportcenter.html]]\n",
      "[[tegen geparkeerde auto in Driemond:], [tegen geparkeerde auto in Driemond:], [gecrasht in de Burgemeester Bletzstraat in Driemond.], [een 18-jarige vrouw uit Diemen, reed met haar]]\n",
      "[[ongeluk op A58 bij Moergestel:], [ernstig ongeluk op de A58 bij Moergestel zijn maandag in alle], [de ambulance naar het ziekenhuis in Tilburg gebracht.], [gebeurde in de richting Eindhoven.]]\n",
      "[[tegen een boom in Zetten.], [tegen de boom tot stilstand.], [niet mee naar het ziekenhuis.]]\n",
      "[[motorrijder reed op de Rijssenseweg (N350),]]\n",
      "[[gewond na val in Almelo], [scooter onderuit gegaan in Almelo.]]\n",
      "[[de kruising van de Diepsmeerweg met de Rekeroogweg.], [de politie Schagen op Facebook.], [Zware verwondingen heeft de fietser]]\n",
      "[[een ongeval op de Zevenbergseweg in Etten-Leur.], [een ambulance naar het ziekenhuis in Rotterdam gebracht.  ]]\n",
      "[[scooterrijdster zijn vanmiddag in Hardenberg tegen elkaar gebotst.], [ongeluk gebeurde op de Ommerweg, ter hoogte van camping De Klimberg.]]\n",
      "[[fietsster is vanmiddag in Hengelo gewond geraakt toen zij], [aanrijding was op de Bornsestraat bij IJssalon Van der], [auto kwam uit de Dennenbosweg en zag de vrouw]]\n",
      "[[, is vanmiddag in Lichtmis een bromfietser gewond geraakt], [ongeluk gebeurde op de Lichtmisweg, voor het restaurant De Koperen Hoogte.]]\n",
      "[[gewonden bij ongeluk op Pleijroute bij Arnhem Foto:], [een ongeluk op de Pleijroute bij Arnhem zijn 's avonds], [twee ambulances naar het Rijnstate-ziekenhuis gebracht.]]\n",
      "[[De parallelbaan van de A16 richting Breda is ter hoogte van], [Volgens Rijkswaterstaat was er zeker één], [De parallelbaan in de A16 richting Breda werd rond 18.00 uur]]\n",
      "[[gewonde bij ongeluk in Den Bosch en de dader rijdt, bestuurder reed door in Den Bosch na een aanrijding waarbij], [voetganger aangereden in de Visstraat in Den Bosch en is daarna doorgereden], [De Visstraat ligt in het centrum]]\n",
      "[[en hulpverlening in de provincie Zeeland Fietser gewond], [ARNEMUIDEN - Op de Muidenweg tussen Arnemuiden en Wolphaartsdijk is vanmiddag een fietser], [Outdoor & Events bij Haven De Piet een wielrenner over het], [en de fietser liep letsel op.], [Aan Misschien-Misschien.], [fiets nog door heel Nederland.], [verkeers statistieken gekeken voor Nederland.]]\n",
      "[[gewond bij val in Oud-Vossemeer - HVZeeland - Nieuws en achtergronden rond veiligheid en hulpverlening in de provincie Zeeland Wielrenner gewond bij val in Oud-Vossemeer], [ten val kwam in Oud-Vossemeer.], [aan de Onder de Molen.], [hij meemoest naar het ziekenhuis.]]\n",
      "[[en hulpverlening in de provincie Zeeland Schade bij botsing op N59], [een bestelbus reed rond 08.55 uur achterop een Duitse personenauto.], [Bergingsbedrijf Ista uit Oosterland heeft de beide voertuigen], [overige verkeer op de N59.]]\n",
      "[[20 april 2019, 19.22 uur Inter Visual Studio, een auto op de Holterbergweg in Duivendrecht.]]\n",
      "[[Fietser Enschede knalt al bellend tegen], [is vanmiddag op de Hengelosestraat in Enschede gewond geraakt nadat hij], [ter hoogte van het Meubelplein.]]\n",
      "[[scooterrijder vanmiddag op de Hulsmaatstraat in Enschede gewond geraakt.]]\n",
      "[[bij de N200 in Halfweg], [op de N200 in Halfweg dwars door een hek], [hek en kwam tot stilstand tegen een boom.]]\n",
      "[[Een 17-jarig meisje uit Nieuw-Lekkerland is in de nacht], [23:40 uur op de Lekdijk, toen ze werd], [De Lekdijk is na het ongeluk]]\n",
      "[[ziekenhuis na aanrijding in Hengelo], [bij een ongeluk in Hengelo gewond was geraakt.]]\n",
      "[[Leek – Op het Industriepark is vrijdagochtend een fietser], [auto zou de fietser – bij het rechts afslaan – over het hoofd hebben]]\n",
      "[[een botsing op de Pade in Opmeer.], [man kwam vanaf de Hogeweg en wilde de Pade oversteken, waar op]]\n"
     ]
    }
   ],
   "source": [
    "import spacy\n",
    "\n",
    "from mine_location_descriptions import get_location_descriptions\n",
    "from import_data import import_data\n",
    "import implementation as implement\n",
    "nlp = spacy.load('nl_core_news_sm')\n",
    "\n",
    "data = import_data('hetongelukscraped.csv', column=\"Artikel\")\n",
    "data = data[:30]\n",
    "input_data = get_location_descriptions(data, nlp)\n"
   ]
  },
  {
   "cell_type": "markdown",
   "metadata": {},
   "source": [
    "### Tussenstap: alleen voorzetsels en toponiemen\n"
   ]
  },
  {
   "cell_type": "code",
   "execution_count": 2,
   "metadata": {},
   "outputs": [
    {
     "name": "stdout",
     "output_type": "stream",
     "text": [
      "[[[[], [RTV, Oost]], [[de, in], [Bornerbroek]]]]\n",
      "=====================================================================\n",
      "[[[[in], [Amsterdam]], [[kruising, van], [Marnixstraat]], [[met], [Rozengracht]], [[in], [Amsterdam]]], [[[Op], [Marnixstraat]]], [[[uit], [India]]]]\n",
      "=====================================================================\n",
      "[[[[], [Jisper]]], [[[], [Roode, Roode]]]]\n",
      "=====================================================================\n",
      "[[[[op], [A4]], [[bij], [Hoofddorp]]], [[[op], [A4]]], [[[in, richting, van], [Schiphol]]], [[[], [Houd]]]]\n",
      "=====================================================================\n",
      "[[[[op], [A1]]], [[[op, richting], [Apeldoorn]]], [[[van], [Columbia]], [[uit], [Apeldoorn]]], [[[richting], [Apeldoorn]]], [[[richting], [Apeldoorn]], [[via, richting], [Arnhem]], [[via], [Enschede]]], [[[op], [Nederlandse]]], [[[], [Make, for]]]]\n",
      "=====================================================================\n",
      "[[[[tegen, in], [Driemond]]], [[[tegen, in], [Driemond]]], [[[in], [Bletzstraat]], [[in], [Driemond]]], [[[uit], [Diemen]]]]\n",
      "=====================================================================\n",
      "[[[[op, bij], [Moergestel]]], [[[op], [A58]], [[bij], [Moergestel]]], [[[naar], [ziekenhuis]], [[in], [Tilburg]]], [[[in, richting], [Eindhoven]]]]\n",
      "=====================================================================\n",
      "[[[[tegen, in], [Zetten]]], [[[tegen, tot], [stilstand]]], [[[naar], [ziekenhuis]]]]\n",
      "=====================================================================\n",
      "[[[[op], [Rijssenseweg]]]]\n",
      "=====================================================================\n",
      "[[[[na, in], [Almelo]]], [[[in], [Almelo]]]]\n",
      "=====================================================================\n",
      "[[[[kruising, van], [Diepsmeerweg]], [[met], [Rekeroogweg]]], [[[op], [Facebook]]], [[[], [Zware]]]]\n",
      "=====================================================================\n",
      "[[[[op], [Zevenbergseweg]], [[in], [Etten-Leur]]], [[[naar], [ziekenhuis]], [[in], [Rotterdam]]]]\n",
      "=====================================================================\n",
      "[[[[in], [Hardenberg]]], [[[op], [Ommerweg]], [[ter, hoogte], [Klimberg]]]]\n",
      "=====================================================================\n",
      "[[[[in], [Hengelo]]], [[[op], [Bornsestraat]]], [[[uit], [Dennenbosweg]]]]\n",
      "=====================================================================\n",
      "[[[[in], [Lichtmis]]], [[[op], [Lichtmisweg]], [[voor], [Koperen]]]]\n",
      "=====================================================================\n",
      "[[[[bij, op], [Pleijroute]], [[bij], [Arnhem]]], [[[op], [Pleijroute]], [[bij], [Arnhem]]], [[[naar], [Rijnstate-ziekenhuis]]]]\n",
      "=====================================================================\n",
      "[[[[], [A16]], [[richting], [Breda]]], [[[Volgens], [Rijkswaterstaat]]], [[[in], [A16]], [[richting], [Breda]]]]\n",
      "=====================================================================\n",
      "[[[[bij, in], [Den, Bosch]], [[in], [Den, Bosch]]], [[[in], [Visstraat]], [[in], [Den, Bosch]]], [[[], [Visstraat]]]]\n",
      "=====================================================================\n",
      "[[[[in], [provincie, Zeeland]]], [[[Op], [Muidenweg]], [[tussen], [Arnemuiden, Wolphaartsdijk]]], [[[bij], [Haven, De, Piet]]], [[[], [letsel]]], [[[Aan], [Misschien-Misschien]]], [[[door], [Nederland]]], [[[voor], [Nederland]]]]\n",
      "=====================================================================\n",
      "[[[[bij, in], [Oud-Vossemeer, Nieuws]], [[rond, in], [provincie, Zeeland]], [[bij, in], [Oud-Vossemeer]]], [[[ten, in], [Oud-Vossemeer]]], [[[aan, Onder, de], [Molen]]], [[[naar], [ziekenhuis]]]]\n",
      "=====================================================================\n",
      "[[[[in], [provincie, Zeeland, Schade]]], [[[rond], [08.55, Duitse]]], [[[uit], [Oosterland]]], [[[op], [N59]]]]\n",
      "=====================================================================\n",
      "[[[[], [19.22]], [[op], [Holterbergweg, in, Duivendrecht]]]]\n",
      "=====================================================================\n",
      "[[[[], [Enschede]]], [[[op], [Hengelosestraat]], [[in], [Enschede]]], [[[ter, hoogte], [Meubelplein]]]]\n",
      "=====================================================================\n",
      "[[[[op], [Hulsmaatstraat]], [[in], [Enschede]]]]\n",
      "=====================================================================\n",
      "[[[[bij, in], [Halfweg]]], [[[op, in], [Halfweg]]], [[[tot], [stilstand]]]]\n",
      "=====================================================================\n",
      "[[[[uit], [Nieuw-Lekkerland]]], [[[op], [Lekdijk]]], [[[], [Lekdijk]]]]\n",
      "=====================================================================\n",
      "[[[[na, in], [Hengelo]]], [[[bij, in], [Hengelo]]]]\n",
      "=====================================================================\n",
      "[[[[Op], [Industriepark]]], [[[], [–]], [[bij], [–]]]]\n",
      "=====================================================================\n",
      "[[[[op], [Pade]], [[in], [Opmeer]]], [[[vanaf], [Hogeweg, Pade]]]]\n",
      "=====================================================================\n",
      "[[[[[], [RTV, Oost]], [[de, in], [Bornerbroek]]]], [[[[in], [Amsterdam]], [[kruising, van], [Marnixstraat]], [[met], [Rozengracht]], [[in], [Amsterdam]]], [[[Op], [Marnixstraat]]], [[[uit], [India]]]], [[[[], [Jisper]]], [[[], [Roode, Roode]]]], [[[[op], [A4]], [[bij], [Hoofddorp]]], [[[op], [A4]]], [[[in, richting, van], [Schiphol]]], [[[], [Houd]]]], [[[[op], [A1]]], [[[op, richting], [Apeldoorn]]], [[[van], [Columbia]], [[uit], [Apeldoorn]]], [[[richting], [Apeldoorn]]], [[[richting], [Apeldoorn]], [[via, richting], [Arnhem]], [[via], [Enschede]]], [[[op], [Nederlandse]]], [[[], [Make, for]]]], [[[[tegen, in], [Driemond]]], [[[tegen, in], [Driemond]]], [[[in], [Bletzstraat]], [[in], [Driemond]]], [[[uit], [Diemen]]]], [[[[op, bij], [Moergestel]]], [[[op], [A58]], [[bij], [Moergestel]]], [[[naar], [ziekenhuis]], [[in], [Tilburg]]], [[[in, richting], [Eindhoven]]]], [[[[tegen, in], [Zetten]]], [[[tegen, tot], [stilstand]]], [[[naar], [ziekenhuis]]]], [[[[op], [Rijssenseweg]]]], [[[[na, in], [Almelo]]], [[[in], [Almelo]]]], [[[[kruising, van], [Diepsmeerweg]], [[met], [Rekeroogweg]]], [[[op], [Facebook]]], [[[], [Zware]]]], [[[[op], [Zevenbergseweg]], [[in], [Etten-Leur]]], [[[naar], [ziekenhuis]], [[in], [Rotterdam]]]], [[[[in], [Hardenberg]]], [[[op], [Ommerweg]], [[ter, hoogte], [Klimberg]]]], [[[[in], [Hengelo]]], [[[op], [Bornsestraat]]], [[[uit], [Dennenbosweg]]]], [[[[in], [Lichtmis]]], [[[op], [Lichtmisweg]], [[voor], [Koperen]]]], [[[[bij, op], [Pleijroute]], [[bij], [Arnhem]]], [[[op], [Pleijroute]], [[bij], [Arnhem]]], [[[naar], [Rijnstate-ziekenhuis]]]], [[[[], [A16]], [[richting], [Breda]]], [[[Volgens], [Rijkswaterstaat]]], [[[in], [A16]], [[richting], [Breda]]]], [[[[bij, in], [Den, Bosch]], [[in], [Den, Bosch]]], [[[in], [Visstraat]], [[in], [Den, Bosch]]], [[[], [Visstraat]]]], [[[[in], [provincie, Zeeland]]], [[[Op], [Muidenweg]], [[tussen], [Arnemuiden, Wolphaartsdijk]]], [[[bij], [Haven, De, Piet]]], [[[], [letsel]]], [[[Aan], [Misschien-Misschien]]], [[[door], [Nederland]]], [[[voor], [Nederland]]]], [[[[bij, in], [Oud-Vossemeer, Nieuws]], [[rond, in], [provincie, Zeeland]], [[bij, in], [Oud-Vossemeer]]], [[[ten, in], [Oud-Vossemeer]]], [[[aan, Onder, de], [Molen]]], [[[naar], [ziekenhuis]]]], [[[[in], [provincie, Zeeland, Schade]]], [[[rond], [08.55, Duitse]]], [[[uit], [Oosterland]]], [[[op], [N59]]]], [[[[], [19.22]], [[op], [Holterbergweg, in, Duivendrecht]]]], [[[[], [Enschede]]], [[[op], [Hengelosestraat]], [[in], [Enschede]]], [[[ter, hoogte], [Meubelplein]]]], [[[[op], [Hulsmaatstraat]], [[in], [Enschede]]]], [[[[bij, in], [Halfweg]]], [[[op, in], [Halfweg]]], [[[tot], [stilstand]]]], [[[[uit], [Nieuw-Lekkerland]]], [[[op], [Lekdijk]]], [[[], [Lekdijk]]]], [[[[na, in], [Hengelo]]], [[[bij, in], [Hengelo]]]], [[[[Op], [Industriepark]]], [[[], [–]], [[bij], [–]]]], [[[[op], [Pade]], [[in], [Opmeer]]], [[[vanaf], [Hogeweg, Pade]]]]]\n"
     ]
    }
   ],
   "source": [
    "\n",
    "articlelist = implement.extractADPLOCCombination(input_data)\n"
   ]
  },
  {
   "cell_type": "markdown",
   "metadata": {},
   "source": [
    "### Oninteressante voorzetsels verwijderd, interessante voorzetsels vervangen door predicaat"
   ]
  },
  {
   "cell_type": "code",
   "execution_count": 3,
   "metadata": {},
   "outputs": [
    {
     "name": "stdout",
     "output_type": "stream",
     "text": [
      "[[['IN', [Bornerbroek]]]]\n",
      "==========================================\n",
      "[[['IN', [Amsterdam]], ['INTERSECT', [Marnixstraat]], ['IN', [Amsterdam]]], [['IN', [Marnixstraat]]]]\n",
      "==========================================\n",
      "[]\n",
      "==========================================\n",
      "[[['IN', [A4]], ['AT', [Hoofddorp]]], [['IN', [A4]]], [['HEADING', [Schiphol]]]]\n",
      "==========================================\n",
      "[[['IN', [A1]]], [['HEADING', [Apeldoorn]]], [['HEADING', [Apeldoorn]]], [['HEADING', [Apeldoorn]], ['HEADING', [Arnhem]]], [['IN', [Nederlandse]]]]\n",
      "==========================================\n",
      "[[['IN', [Driemond]]], [['IN', [Driemond]]], [['IN', [Bletzstraat]], ['IN', [Driemond]]]]\n",
      "==========================================\n",
      "[[['AT', [Moergestel]]], [['IN', [A58]], ['AT', [Moergestel]]], [['HEADING', [ziekenhuis]], ['IN', [Tilburg]]], [['HEADING', [Eindhoven]]]]\n",
      "==========================================\n",
      "[[['IN', [Zetten]]], [['HEADING', [ziekenhuis]]]]\n",
      "==========================================\n",
      "[[['IN', [Rijssenseweg]]]]\n",
      "==========================================\n",
      "[[['IN', [Almelo]]], [['IN', [Almelo]]]]\n",
      "==========================================\n",
      "[[['INTERSECT', [Diepsmeerweg]]], [['IN', [Facebook]]]]\n",
      "==========================================\n",
      "[[['IN', [Zevenbergseweg]], ['IN', [Etten-Leur]]], [['HEADING', [ziekenhuis]], ['IN', [Rotterdam]]]]\n",
      "==========================================\n",
      "[[['IN', [Hardenberg]]], [['IN', [Ommerweg]], ['AT', [Klimberg]]]]\n",
      "==========================================\n",
      "[[['IN', [Hengelo]]], [['IN', [Bornsestraat]]]]\n",
      "==========================================\n",
      "[[['IN', [Lichtmis]]], [['IN', [Lichtmisweg]]]]\n",
      "==========================================\n",
      "[[['IN', [Pleijroute]], ['AT', [Arnhem]]], [['IN', [Pleijroute]], ['AT', [Arnhem]]], [['HEADING', [Rijnstate-ziekenhuis]]]]\n",
      "==========================================\n",
      "[[['HEADING', [Breda]]], [['IN', [A16]], ['HEADING', [Breda]]]]\n",
      "==========================================\n",
      "[[['IN', [Den, Bosch]], ['IN', [Den, Bosch]]], [['IN', [Visstraat]], ['IN', [Den, Bosch]]]]\n",
      "==========================================\n",
      "[[['IN', [provincie, Zeeland]]], [['IN', [Muidenweg]], ['BETWEEN', [Arnemuiden, Wolphaartsdijk]]], [['AT', [Haven, De, Piet]]]]\n",
      "==========================================\n",
      "[[['IN', [Oud-Vossemeer, Nieuws]], ['IN', [provincie, Zeeland]], ['IN', [Oud-Vossemeer]]], [['IN', [Oud-Vossemeer]]], [['HEADING', [ziekenhuis]]]]\n",
      "==========================================\n",
      "[[['IN', [provincie, Zeeland, Schade]]], [['IN', [N59]]]]\n",
      "==========================================\n",
      "[[['IN', [Holterbergweg, in, Duivendrecht]]]]\n",
      "==========================================\n",
      "[[['IN', [Hengelosestraat]], ['IN', [Enschede]]], [['AT', [Meubelplein]]]]\n",
      "==========================================\n",
      "[[['IN', [Hulsmaatstraat]], ['IN', [Enschede]]]]\n",
      "==========================================\n",
      "[[['IN', [Halfweg]]], [['IN', [Halfweg]]]]\n",
      "==========================================\n",
      "[[['IN', [Lekdijk]]]]\n",
      "==========================================\n",
      "[[['IN', [Hengelo]]], [['IN', [Hengelo]]]]\n",
      "==========================================\n",
      "[[['IN', [Industriepark]]], [['AT', [–]]]]\n",
      "==========================================\n",
      "[[['IN', [Pade]], ['IN', [Opmeer]]]]\n",
      "==========================================\n"
     ]
    }
   ],
   "source": [
    "article_pred_list = implement.NLtoPredicate(articlelist)"
   ]
  },
  {
   "cell_type": "markdown",
   "metadata": {},
   "source": [
    "Er moeten nog enkele verbeteringen aan gedaan worden:\n",
    "- toponiemen zonder voorzetsels worden nu nog weggelaten. Die kunnen mogelijk bij \"IN\" geclassificeerd worden.\n",
    "- BETWEEN en INSTERSECT occurrences moeten altijd twee locaties noemen, dat is nu nog geen eis. \n",
    "- Toponiemen bestaande uit twee woorden (bijvoorbeeld \"Den Bosch\") worden gezien als twee verschillende toponiemen."
   ]
  }
 ],
 "metadata": {
  "kernelspec": {
   "display_name": "Python 3",
   "language": "python",
   "name": "python3"
  },
  "language_info": {
   "codemirror_mode": {
    "name": "ipython",
    "version": 3
   },
   "file_extension": ".py",
   "mimetype": "text/x-python",
   "name": "python",
   "nbconvert_exporter": "python",
   "pygments_lexer": "ipython3",
   "version": "3.7.5"
  }
 },
 "nbformat": 4,
 "nbformat_minor": 2
}
